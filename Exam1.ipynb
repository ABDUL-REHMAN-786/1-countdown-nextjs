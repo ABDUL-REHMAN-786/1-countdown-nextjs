{
  "nbformat": 4,
  "nbformat_minor": 0,
  "metadata": {
    "colab": {
      "provenance": [],
      "authorship_tag": "ABX9TyPo8Gncq2PGmHpbprwlBhQw",
      "include_colab_link": true
    },
    "kernelspec": {
      "name": "python3",
      "display_name": "Python 3"
    },
    "language_info": {
      "name": "python"
    }
  },
  "cells": [
    {
      "cell_type": "markdown",
      "metadata": {
        "id": "view-in-github",
        "colab_type": "text"
      },
      "source": [
        "<a href=\"https://colab.research.google.com/github/ABDUL-REHMAN-786/1-countdown-nextjs/blob/main/Exam1.ipynb\" target=\"_parent\"><img src=\"https://colab.research.google.com/assets/colab-badge.svg\" alt=\"Open In Colab\"/></a>"
      ]
    },
    {
      "cell_type": "code",
      "execution_count": null,
      "metadata": {
        "colab": {
          "base_uri": "https://localhost:8080/",
          "height": 487
        },
        "id": "EoEcbRlRUQ1B",
        "outputId": "1637a01e-08c1-40e7-ee66-f1d4c2427da4"
      },
      "outputs": [
        {
          "output_type": "execute_result",
          "data": {
            "text/plain": [
              "\"Project 02: Student Performance Categorizer\\n\\nProblem Statement:\\n\\nYou are tasked with developing a simple Python program for a school to analyze student exam\\n\\nscores and categorize their performance.\\n\\nThe school provides you with a list of students and their exam scores in the form of a list of\\n\\ntuples. Each tuple contains the student's name and their score (out of 100). Your program must:\\n\\n\\nClassify each student into one of the following performance categories using conditional\\n\\nstatements:\\n\\n○ Excellent (score ≥ 85)\\n\\n○ Good (70 ≤ score < 85)\\n\\nAverage (50 ≤ score < 70)\\n\\n○ Poor (score < 50)\\n\\n\\n\\nDisplay the students in each category using a for loop.\\n\\n\\n\\nStore all student names in a set to ensure uniqueness.\\n\\n\\n\\nFinally, print the total number of students and the number of unique students (using theset).\""
            ],
            "application/vnd.google.colaboratory.intrinsic+json": {
              "type": "string"
            }
          },
          "metadata": {},
          "execution_count": 1
        }
      ],
      "source": [
        "\n",
        "\"\"\"Project 02: Student Performance Categorizer\n",
        "\n",
        "Problem Statement:\n",
        "\n",
        "You are tasked with developing a simple Python program for a school to analyze student exam\n",
        "\n",
        "scores and categorize their performance.\n",
        "\n",
        "The school provides you with a list of students and their exam scores in the form of a list of\n",
        "\n",
        "tuples. Each tuple contains the student's name and their score (out of 100). Your program must:\n",
        "\n",
        "\n",
        "Classify each student into one of the following performance categories using conditional\n",
        "\n",
        "statements:\n",
        "\n",
        "○ Excellent (score ≥ 85)\n",
        "\n",
        "○ Good (70 ≤ score < 85)\n",
        "\n",
        "Average (50 ≤ score < 70)\n",
        "\n",
        "○ Poor (score < 50)\n",
        "\n",
        "\n",
        "\n",
        "Display the students in each category using a for loop.\n",
        "\n",
        "\n",
        "\n",
        "Store all student names in a set to ensure uniqueness.\n",
        "\n",
        "\n",
        "\n",
        "Finally, print the total number of students and the number of unique students (using theset).\"\"\""
      ]
    },
    {
      "cell_type": "code",
      "source": [
        "\n",
        "# Project 02: Student Performance Categorizer\n",
        "\n",
        "# Sample list of student scores (name, score)\n",
        "students_scores = [\n",
        "    (\"Alice\", 92),\n",
        "    (\"Bob\", 76),\n",
        "    (\"Charlie\", 65),\n",
        "    (\"David\", 45),\n",
        "    (\"Eve\", 88),\n",
        "    (\"Frank\", 72),\n",
        "    (\"Grace\", 58),\n",
        "    (\"Heidi\", 33),\n",
        "    (\"Ivan\", 70),\n",
        "    (\"Judy\", 85),\n",
        "    (\"Alice\", 92),  # Duplicate for testing set uniqueness\n",
        "]\n",
        "\n",
        "# Initialize categories\n",
        "excellent = []\n",
        "good = []\n",
        "average = []\n",
        "poor = []\n",
        "\n",
        "# Set for unique student names\n",
        "unique_students = set()\n",
        "\n",
        "# Categorize students\n",
        "for name, score in students_scores:\n",
        "    unique_students.add(name)\n",
        "    if score >= 85:\n",
        "        excellent.append(name)\n",
        "    elif 70 <= score < 85:\n",
        "        good.append(name)\n",
        "    elif 50 <= score < 70:\n",
        "        average.append(name)\n",
        "    else:\n",
        "        poor.append(name)\n",
        "\n",
        "# Display categorized students\n",
        "print(\"=== Performance Categories ===\")\n",
        "print(\"Excellent (>=85):\", excellent)\n",
        "print(\"Good (70-84):\", good)\n",
        "print(\"Average (50-69):\", average)\n",
        "print(\"Poor (<50):\", poor)\n",
        "\n",
        "# Print total number of students and unique students\n",
        "print(\"\\n=== Summary ===\")\n",
        "print(\"Total students (including duplicates):\", len(students_scores))\n",
        "print(\"Unique students:\", len(unique_students))"
      ],
      "metadata": {
        "colab": {
          "base_uri": "https://localhost:8080/"
        },
        "id": "HNx5KeBLUchJ",
        "outputId": "6b7d8bd6-9834-41a9-c930-33921074e28f"
      },
      "execution_count": null,
      "outputs": [
        {
          "output_type": "stream",
          "name": "stdout",
          "text": [
            "=== Performance Categories ===\n",
            "Excellent (>=85): ['Alice', 'Eve', 'Judy', 'Alice']\n",
            "Good (70-84): ['Bob', 'Frank', 'Ivan']\n",
            "Average (50-69): ['Charlie', 'Grace']\n",
            "Poor (<50): ['David', 'Heidi']\n",
            "\n",
            "=== Summary ===\n",
            "Total students (including duplicates): 11\n",
            "Unique students: 10\n"
          ]
        }
      ]
    },
    {
      "cell_type": "code",
      "source": [
        "# Student Performance Categorizer\n",
        "\n",
        "# List of students and their scores\n",
        "students = [\n",
        "    (\"Alice\", 92),\n",
        "    (\"Bob\", 76),\n",
        "    (\"Charlie\", 65),\n",
        "    (\"David\", 45),\n",
        "    (\"Eve\", 88),\n",
        "    (\"Frank\", 72),\n",
        "    (\"Grace\", 58),\n",
        "    (\"Heidi\", 33),\n",
        "    (\"Ivan\", 70),\n",
        "    (\"Judy\", 85),\n",
        "    (\"Alice\", 92)  # Duplicate name to check uniqueness\n",
        "]\n",
        "\n",
        "# Create empty lists for each category\n",
        "excellent = []\n",
        "good = []\n",
        "average = []\n",
        "poor = []\n",
        "\n",
        "# Create an empty set for unique student names\n",
        "unique_names = set()\n",
        "\n",
        "# Loop through the list and categorize students\n",
        "for student in students:\n",
        "    name, score = student\n",
        "    unique_names.add(name)\n",
        "\n",
        "    if score >= 85:\n",
        "        excellent.append(name)\n",
        "    elif score >= 70:\n",
        "        good.append(name)\n",
        "    elif score >= 50:\n",
        "        average.append(name)\n",
        "    else:\n",
        "        poor.append(name)\n",
        "\n",
        "# Print the results\n",
        "print(\"Student Performance Categories:\")\n",
        "print(\"Excellent (85+):\", excellent)\n",
        "print(\"Good (70-84):\", good)\n",
        "print(\"Average (50-69):\", average)\n",
        "print(\"Poor (<50):\", poor)\n",
        "\n",
        "# Print summary\n",
        "print(\"\\nSummary:\")\n",
        "print(\"Total students (including duplicates):\", len(students))\n",
        "print(\"Number of unique students:\", len(unique_names))"
      ],
      "metadata": {
        "colab": {
          "base_uri": "https://localhost:8080/"
        },
        "id": "HD4zGv-IUv06",
        "outputId": "2977b91a-073a-4192-f32d-a30ee7f85576"
      },
      "execution_count": null,
      "outputs": [
        {
          "output_type": "stream",
          "name": "stdout",
          "text": [
            "Student Performance Categories:\n",
            "Excellent (85+): ['Alice', 'Eve', 'Judy', 'Alice']\n",
            "Good (70-84): ['Bob', 'Frank', 'Ivan']\n",
            "Average (50-69): ['Charlie', 'Grace']\n",
            "Poor (<50): ['David', 'Heidi']\n",
            "\n",
            "Summary:\n",
            "Total students (including duplicates): 11\n",
            "Number of unique students: 10\n"
          ]
        }
      ]
    }
  ]
}